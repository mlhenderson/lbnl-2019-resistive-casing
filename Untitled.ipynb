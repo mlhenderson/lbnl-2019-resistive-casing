{
 "cells": [
  {
   "cell_type": "markdown",
   "metadata": {},
   "source": [
    "# Modelling a resistive casing \n",
    "\n",
    "This example examines a frequency-domain EM experiment in a resistive casing\n",
    "- shift enter to run cells "
   ]
  },
  {
   "cell_type": "code",
   "execution_count": 1,
   "metadata": {},
   "outputs": [],
   "source": [
    "# core python\n",
    "import numpy as np\n",
    "import matplotlib.pyplot as plt\n",
    "from matplotlib.colors import LogNorm\n",
    "from scipy.constants import mu_0, inch, foot\n",
    "import os\n",
    "import ipywidgets\n",
    "import time\n",
    "from string import ascii_lowercase\n",
    "from matplotlib import rcParams\n",
    "from matplotlib import gridspec\n",
    "\n",
    "# SimPEG, discretize\n",
    "import discretize\n",
    "from discretize import utils\n",
    "from SimPEG.EM import FDEM as fdem\n",
    "from SimPEG import Utils as Utils\n",
    "from pymatsolver import Pardiso\n",
    "\n",
    "# casing utility code \n",
    "import casingSimulations as casing_sim\n",
    "\n",
    "%matplotlib inline"
   ]
  },
  {
   "cell_type": "markdown",
   "metadata": {},
   "source": [
    "## Model parameters\n",
    "\n",
    "The following cell states the model parameters - all in SI units\n",
    "- conductivities [$S/m$]\n",
    "- lengths / diameter / radius [$m$]\n",
    "- frequencies [$Hz$]\n",
    "\n",
    "The coordinate system is right-handed with z-positive up. Depths are converted to z by multiplying by -1. \n",
    "\n",
    "Note that there should be no contrasts that are larger than ~1e10 S/m in the model. Larger contrasts risk introducing numerical errors. (This is very important for conductive casings, but still worth noting here) "
   ]
  },
  {
   "cell_type": "markdown",
   "metadata": {},
   "source": [
    "### Casing parameters"
   ]
  },
  {
   "cell_type": "code",
   "execution_count": 2,
   "metadata": {},
   "outputs": [],
   "source": [
    "# conductivities (all in S/m)\n",
    "sigma_air = 1e-8 \n",
    "sigma_back = 1e-2\n",
    "sigma_casing = 1e-10\n",
    "sigma_inside = 1 \n",
    "\n",
    "# casing geometry (all in meters)\n",
    "casing_diameter = 10e-2  # outer diameter of the casing\n",
    "casing_t = 10e-3  # thickness of the casing wall\n",
    "casing_l = 1000  # length of the casing"
   ]
  },
  {
   "cell_type": "markdown",
   "metadata": {},
   "source": [
    "### Source parameters"
   ]
  },
  {
   "cell_type": "code",
   "execution_count": 3,
   "metadata": {},
   "outputs": [],
   "source": [
    "src_a_z = -500\n",
    "src_b_z = -510\n",
    "\n",
    "frequencies = [10, 100, 1000] "
   ]
  },
  {
   "cell_type": "markdown",
   "metadata": {},
   "source": [
    "### convienience tools\n",
    "\n",
    "The following sets up an object to keep track of the model parameters. You shouldn't need to change anything here. "
   ]
  },
  {
   "cell_type": "code",
   "execution_count": 4,
   "metadata": {},
   "outputs": [],
   "source": [
    "model = casing_sim.model.CasingInHalfspace(\n",
    "    casing_d = casing_diameter - casing_t,  # I use diameter to the center of the casing wall\n",
    "    casing_l = casing_l,\n",
    "    casing_t = casing_t, \n",
    "    sigma_air = sigma_air,\n",
    "    sigma_casing = sigma_casing,\n",
    "    sigma_back = sigma_back,\n",
    "    sigma_inside = sigma_inside,\n",
    "    src_a = np.r_[0., 0., src_a_z],\n",
    "    src_b = np.r_[0., 0., src_b_z],\n",
    "    freqs = np.array(frequencies, dtype=float)\n",
    ")"
   ]
  },
  {
   "cell_type": "code",
   "execution_count": 5,
   "metadata": {},
   "outputs": [
    {
     "name": "stdout",
     "output_type": "stream",
     "text": [
      "[1591.54943092  503.29212104  159.15494309]\n"
     ]
    }
   ],
   "source": [
    "print(model.skin_depth())"
   ]
  },
  {
   "cell_type": "markdown",
   "metadata": {},
   "source": [
    "## Mesh\n",
    "\n",
    "Here we set up a cylindrically symmetric mesh. The mesh generator tool creates a mesh which discretizes the casing quite finely - there are 4 cells across the width of the casing thickness. \n",
    "\n",
    "You can set the parameters in the cell below depending on where you want to look at data and how finely it needs to sampled. \n",
    "- `cell_hx` is the width of cells in the region of the mesh away from the well where we want to measure data. \n",
    "- `cell_hz` is the vertical extent of the cells along the length of the casing\n",
    "- `domain_x` is the total extent of the region where we we are examining the fields and fluxes, outside of this, we use padding cells in order to satisfy boundary conditions\n",
    "- `npad_x` is the number of x padding cells\n",
    "- `npad_z` is the number of z padding cells\n",
    "\n",
    "The padding cells should ensure that the mesh goes at least one skin depth out, preferably 2. "
   ]
  },
  {
   "cell_type": "code",
   "execution_count": 6,
   "metadata": {},
   "outputs": [],
   "source": [
    "cell_hx = 100\n",
    "cell_hz = 2.5\n",
    "domain_x = 1000\n",
    "\n",
    "npad_x = 10\n",
    "npad_z = 20"
   ]
  },
  {
   "cell_type": "code",
   "execution_count": 7,
   "metadata": {},
   "outputs": [],
   "source": [
    "mesh_generator = casing_sim.mesh.CasingMeshGenerator(\n",
    "    modelParameters = model, \n",
    "    csx1 = model.casing_t/4,\n",
    "    csx2 = cell_hx,\n",
    "    domain_x = domain_x,\n",
    "    npadx = 8, \n",
    "    npadz = 17, \n",
    "    csz = cell_hz,\n",
    ")"
   ]
  },
  {
   "cell_type": "code",
   "execution_count": 8,
   "metadata": {},
   "outputs": [
    {
     "name": "stdout",
     "output_type": "stream",
     "text": [
      "<discretize.CylMesh.CylMesh object at 0x12103e978>\n"
     ]
    }
   ],
   "source": [
    "mesh = mesh_generator.mesh\n",
    "print(mesh)"
   ]
  },
  {
   "cell_type": "code",
   "execution_count": 9,
   "metadata": {},
   "outputs": [
    {
     "ename": "SyntaxError",
     "evalue": "invalid syntax (<ipython-input-9-9e64abfbd0a9>, line 1)",
     "output_type": "error",
     "traceback": [
      "\u001b[0;36m  File \u001b[0;32m\"<ipython-input-9-9e64abfbd0a9>\"\u001b[0;36m, line \u001b[0;32m1\u001b[0m\n\u001b[0;31m    mesh.\u001b[0m\n\u001b[0m         ^\u001b[0m\n\u001b[0;31mSyntaxError\u001b[0m\u001b[0;31m:\u001b[0m invalid syntax\n"
     ]
    }
   ],
   "source": []
  },
  {
   "cell_type": "code",
   "execution_count": null,
   "metadata": {},
   "outputs": [],
   "source": [
    "discretize.__version__"
   ]
  },
  {
   "cell_type": "code",
   "execution_count": null,
   "metadata": {},
   "outputs": [],
   "source": [
    "mesh.plotGrid()"
   ]
  },
  {
   "cell_type": "code",
   "execution_count": null,
   "metadata": {},
   "outputs": [],
   "source": []
  }
 ],
 "metadata": {
  "kernelspec": {
   "display_name": "Python 3",
   "language": "python",
   "name": "python3"
  },
  "language_info": {
   "codemirror_mode": {
    "name": "ipython",
    "version": 3
   },
   "file_extension": ".py",
   "mimetype": "text/x-python",
   "name": "python",
   "nbconvert_exporter": "python",
   "pygments_lexer": "ipython3",
   "version": "3.7.3"
  }
 },
 "nbformat": 4,
 "nbformat_minor": 2
}
