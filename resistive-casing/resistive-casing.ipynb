{
 "cells": [
  {
   "cell_type": "markdown",
   "metadata": {},
   "source": [
    "# Modelling a resistive casing \n",
    "\n",
    "This example examines a frequency-domain EM experiment in a resistive casing. We use SimPEG to run the forward simulations on a cylindrically symmetric mesh. For more background, on modelling casings with SimPEG, please see:\n",
    "\n",
    "- Heagy, L. J., & Oldenburg, D. W. (2018). Modeling electromagnetics on cylindrical meshes with applications to steel-cased wells. Computers & geosciences. [https://doi.org/10.1016/j.cageo.2018.11.010](https://doi.org/10.1016/j.cageo.2018.11.010)\n",
    "\n",
    "\n",
    "In order to run each cell, you can use `shift`+`enter`. If you are looking for more resources on getting started with Jupyter and with Python, I highly recommend:\n",
    "- [A Whirlwind Tour of Python](https://jakevdp.github.io/WhirlwindTourOfPython/)\n",
    "- [The Python Data Science Handbook](https://jakevdp.github.io/PythonDataScienceHandbook/)"
   ]
  },
  {
   "cell_type": "code",
   "execution_count": null,
   "metadata": {},
   "outputs": [],
   "source": [
    "# core python\n",
    "import numpy as np\n",
    "import matplotlib.pyplot as plt\n",
    "from matplotlib.colors import LogNorm\n",
    "from scipy.constants import mu_0, inch, foot\n",
    "import os\n",
    "import ipywidgets\n",
    "import time\n",
    "from string import ascii_lowercase\n",
    "from matplotlib import rcParams\n",
    "from matplotlib import gridspec\n",
    "\n",
    "# SimPEG, discretize\n",
    "import discretize\n",
    "from discretize import utils\n",
    "from SimPEG.electromagnetics import frequency_domain as fdem\n",
    "from SimPEG import maps, utils\n",
    "from pymatsolver import Pardiso\n",
    "\n",
    "# casing utility code \n",
    "import casingSimulations as casing_sim\n",
    "\n",
    "%matplotlib inline"
   ]
  },
  {
   "cell_type": "code",
   "execution_count": null,
   "metadata": {},
   "outputs": [],
   "source": [
    "from matplotlib import rcParams\n",
    "rcParams[\"font.size\"] = 14"
   ]
  },
  {
   "cell_type": "markdown",
   "metadata": {},
   "source": [
    "## Model parameters\n",
    "\n",
    "The following cell states the model parameters - all in SI units\n",
    "- conductivities [$S/m$]\n",
    "- lengths / diameter / radius [$m$]\n",
    "- frequencies [$Hz$]\n",
    "\n",
    "The coordinate system is right-handed with z-positive up. Depths are converted to z by multiplying by -1. \n",
    "\n",
    "Note that there should be no contrasts that are larger than ~1e10 S/m in the model. Larger contrasts risk introducing numerical errors. (This is very important for conductive casings, but still worth noting here) "
   ]
  },
  {
   "cell_type": "markdown",
   "metadata": {},
   "source": [
    "### Casing parameters"
   ]
  },
  {
   "cell_type": "code",
   "execution_count": null,
   "metadata": {},
   "outputs": [],
   "source": [
    "# conductivities (all in S/m)\n",
    "sigma_air = 1e-8 \n",
    "sigma_back = 1e-2\n",
    "sigma_casing = 1e-10\n",
    "sigma_inside = 1 \n",
    "\n",
    "# casing geometry (all in meters)\n",
    "casing_diameter = 10e-2  # outer diameter of the casing\n",
    "casing_t = 10e-3  # thickness of the casing wall\n",
    "casing_l = 1000  # length of the casing"
   ]
  },
  {
   "cell_type": "markdown",
   "metadata": {},
   "source": [
    "### Source parameters\n",
    "\n",
    "z is positive up, so we specify negative values for the source location to have it be downhole"
   ]
  },
  {
   "cell_type": "code",
   "execution_count": null,
   "metadata": {},
   "outputs": [],
   "source": [
    "src_a_z = -500\n",
    "src_b_z = -510\n",
    "src_z = np.r_[src_a_z, src_b_z]\n",
    "\n",
    "frequencies = [100, 300, 1000] "
   ]
  },
  {
   "cell_type": "markdown",
   "metadata": {},
   "source": [
    "### convienience tools\n",
    "\n",
    "The following sets up an object to keep track of the model parameters. You shouldn't need to change anything here. "
   ]
  },
  {
   "cell_type": "code",
   "execution_count": null,
   "metadata": {},
   "outputs": [],
   "source": [
    "model = casing_sim.model.CasingInHalfspace(\n",
    "    casing_d = casing_diameter - casing_t,  # I use diameter to the center of the casing wall\n",
    "    casing_l = casing_l,\n",
    "    casing_t = casing_t, \n",
    "    sigma_air = sigma_air,\n",
    "    sigma_casing = sigma_casing,\n",
    "    sigma_back = sigma_back,\n",
    "    sigma_inside = sigma_inside,\n",
    "    src_a = np.r_[0., 0., src_a_z],\n",
    "    src_b = np.r_[0., 0., src_b_z],\n",
    "    freqs = np.array(frequencies, dtype=float)\n",
    ")"
   ]
  },
  {
   "cell_type": "markdown",
   "metadata": {},
   "source": [
    "Compute the skin depths of the models to design a sensible mesh"
   ]
  },
  {
   "cell_type": "code",
   "execution_count": null,
   "metadata": {},
   "outputs": [],
   "source": [
    "print(model.skin_depth())"
   ]
  },
  {
   "cell_type": "markdown",
   "metadata": {},
   "source": [
    "## Mesh\n",
    "\n",
    "Here we set up a cylindrically symmetric mesh. The mesh generator tool creates a mesh which discretizes the casing quite finely - there are 4 cells across the width of the casing thickness. \n",
    "\n",
    "You can set the parameters in the cell below depending on where you want to look at data and how finely it needs to sampled. \n",
    "- `cell_hx` is the width of cells in the region of the mesh away from the well where we want to measure data. \n",
    "- `cell_hz` is the vertical extent of the cells along the length of the casing\n",
    "- `domain_x` is the total extent of the region where we we are examining the fields and fluxes, outside of this, we use padding cells in order to satisfy boundary conditions\n",
    "- `npad_x` is the number of x padding cells\n",
    "- `npad_z` is the number of z padding cells\n",
    "\n",
    "The padding cells should ensure that the mesh goes at least one skin depth out, preferably 2. "
   ]
  },
  {
   "cell_type": "code",
   "execution_count": null,
   "metadata": {},
   "outputs": [],
   "source": [
    "cell_hx = 50\n",
    "cell_hz = 2.5\n",
    "domain_x = 1000\n",
    "\n",
    "npad_x = 10\n",
    "npad_z = 20"
   ]
  },
  {
   "cell_type": "code",
   "execution_count": null,
   "metadata": {},
   "outputs": [],
   "source": [
    "mesh_generator = casing_sim.mesh.CasingMeshGenerator(\n",
    "    modelParameters = model, \n",
    "    csx1 = model.casing_t/4,\n",
    "    csx2 = cell_hx,\n",
    "    domain_x = domain_x,\n",
    "    npadx = 8, \n",
    "    npadz = 17, \n",
    "    csz = cell_hz,\n",
    ")"
   ]
  },
  {
   "cell_type": "code",
   "execution_count": null,
   "metadata": {},
   "outputs": [],
   "source": [
    "mesh = mesh_generator.mesh\n",
    "print(\n",
    "    f\"The mesh has {mesh.nC} cells \\n\"\n",
    "    f\" * x-extent: {mesh.vectorNx[-1]:1.1e} m\\n\"\n",
    "    f\" * z-extent: [{mesh.vectorNz[0]:1.1e} m, {mesh.vectorNz[-1]:1.1e} m]\"\n",
    ")"
   ]
  },
  {
   "cell_type": "markdown",
   "metadata": {},
   "source": [
    "Plot the mesh. To zoom in, un-comment the lines that set the `xlim` and `ylim`"
   ]
  },
  {
   "cell_type": "code",
   "execution_count": null,
   "metadata": {},
   "outputs": [],
   "source": [
    "fig, ax = plt.subplots(1,1)\n",
    "mesh.plotGrid(ax=ax)\n",
    "\n",
    "# ax.set_xlim([0, 0.1])\n",
    "# ax.set_ylim([0, -2])"
   ]
  },
  {
   "cell_type": "markdown",
   "metadata": {},
   "source": [
    "### put the model on the mesh"
   ]
  },
  {
   "cell_type": "code",
   "execution_count": null,
   "metadata": {},
   "outputs": [],
   "source": [
    "sigma = model.sigma(mesh)"
   ]
  },
  {
   "cell_type": "code",
   "execution_count": null,
   "metadata": {},
   "outputs": [],
   "source": [
    "def plot_conductivity(conductivity, ax=None):\n",
    "    \"\"\"\n",
    "    Plot the conductivity model on the mesh. We format the colorbar to be log-scale \n",
    "    and label the axes nicely. \n",
    "    \"\"\"\n",
    "    if ax is None:\n",
    "        fig, ax = plt.subplots(1, 1)\n",
    "        \n",
    "    out = mesh.plotImage(conductivity, mirror=True, ax=ax, pcolorOpts={\"norm\":LogNorm()})\n",
    "    cb = plt.colorbar(out[0], ax=ax)\n",
    "    cb.set_label(\"conductivity (S/m)\")\n",
    "    \n",
    "    ax.set_title(\"$\\sigma$\")\n",
    "    ax.set_xlabel(\"x (m)\")\n",
    "    ax.set_ylabel(\"z (m)\")"
   ]
  },
  {
   "cell_type": "code",
   "execution_count": null,
   "metadata": {},
   "outputs": [],
   "source": [
    "fig, ax = plt.subplots(1, 1, figsize=(4, 5))\n",
    "\n",
    "plot_conductivity(sigma, ax=ax)\n",
    "\n",
    "xlim = 0.5 * np.r_[-1, 1]\n",
    "zlim = np.r_[-1400, 10]\n",
    "\n",
    "ax.set_xlim(xlim)\n",
    "ax.set_ylim(zlim)"
   ]
  },
  {
   "cell_type": "markdown",
   "metadata": {},
   "source": [
    "### create another model with a gap in the casing\n",
    "- gaps should be at least the same size as the cell-size in the z-direction (2.5m) \n",
    "- to add more gaps, add more tuples to the list, e.g.\n",
    "```\n",
    "gaps = [(-800, -805), (-900, -905)]\n",
    "```"
   ]
  },
  {
   "cell_type": "code",
   "execution_count": null,
   "metadata": {},
   "outputs": [],
   "source": [
    "def create_gaps_model(gaps, sigma_gap=sigma_inside):\n",
    "    \"\"\"\n",
    "    Create a model which has gaps in the casing. \n",
    "    \n",
    "    Paramters\n",
    "    ---------\n",
    "    gaps: list(tuples)\n",
    "        list of the vertical extent of the gaps in the casing. \n",
    "        e.g. A model with two gaps, one extending from z0 to z1 \n",
    "        and a second extending from z2 to z3 would be: \n",
    "            gaps = [(z0, z1), (z2, z3)]\n",
    "    \n",
    "    sigma_gap: float\n",
    "        conductivity to put in the gaps. The default fills\n",
    "        the gaps with the same conductivity as the fluid\n",
    "        inside of the casing\n",
    "    \"\"\"\n",
    "    \n",
    "    sigma_gaps = sigma.copy()\n",
    "    for gap in gaps:\n",
    "        if len(gap) != 2:\n",
    "            raise Exception(f\"Gaps must be length 2, the provided input {gap} is not\")\n",
    "        gap = np.array(gaps)\n",
    "        indices_gap = (\n",
    "            model.ind_casing(mesh) & \n",
    "            (mesh.gridCC[:, 2] <= gap.max()) & (mesh.gridCC[:, 2] >= gap.min())\n",
    "        )\n",
    "\n",
    "        sigma_gaps[indices_gap] = sigma_gap\n",
    "    return sigma_gaps"
   ]
  },
  {
   "cell_type": "code",
   "execution_count": null,
   "metadata": {},
   "outputs": [],
   "source": [
    "gaps = [(-800, -805)]\n",
    "sigma_gaps = create_gaps_model(gaps)"
   ]
  },
  {
   "cell_type": "code",
   "execution_count": null,
   "metadata": {},
   "outputs": [],
   "source": [
    "# store the conductivity models in a dictionary for simplicity\n",
    "model_dict = {\n",
    "    \"intact\": sigma,\n",
    "    \"gaps\": sigma_gaps\n",
    "}\n",
    "\n",
    "model_names = list(model_dict.keys())"
   ]
  },
  {
   "cell_type": "code",
   "execution_count": null,
   "metadata": {},
   "outputs": [],
   "source": [
    "fig, ax = plt.subplots(1, 2, figsize=(10, 5))\n",
    "\n",
    "# full casing\n",
    "plot_conductivity(sigma_gaps, ax=ax[0])\n",
    "\n",
    "xlim = 0.5 * np.r_[-1, 1]\n",
    "zlim = np.r_[-1400, 10]\n",
    "\n",
    "ax[0].set_xlim(xlim)\n",
    "ax[0].set_ylim(zlim)\n",
    "\n",
    "# zoom in to gap\n",
    "plot_conductivity(sigma_gaps, ax=ax[1])\n",
    "xlim = 0.5 * np.r_[-1, 1]\n",
    "zlim = np.r_[-850, -750]\n",
    "\n",
    "ax[1].set_xlim(xlim)\n",
    "ax[1].set_ylim(zlim)\n",
    "\n",
    "plt.tight_layout()"
   ]
  },
  {
   "cell_type": "markdown",
   "metadata": {},
   "source": [
    "## Set up the simulation"
   ]
  },
  {
   "cell_type": "markdown",
   "metadata": {},
   "source": [
    "### Create the source\n",
    "\n",
    "Here, we discretize the source current density on cell faces. The following cell finds those incides and the cell after that constructs a list of source objects, one for each frequency.  "
   ]
  },
  {
   "cell_type": "code",
   "execution_count": null,
   "metadata": {},
   "outputs": [],
   "source": [
    "# incides of the source\n",
    "source_inds_z = (\n",
    "    (mesh.gridFz[:, 0] < mesh.hx[0]) &  # in the center of the casing\n",
    "    ((mesh.gridFz[:, 2] >= src_z.min()) & (mesh.gridFz[:, 2] <= src_z.max()))\n",
    ") \n",
    "source_term_z = np.zeros(mesh.nFz)\n",
    "source_term_z[source_inds_z] = 1\n",
    "\n",
    "# normalize by area to have a unit current\n",
    "source_term = np.hstack([np.zeros(mesh.nFx), source_term_z])/mesh.area"
   ]
  },
  {
   "cell_type": "code",
   "execution_count": null,
   "metadata": {},
   "outputs": [],
   "source": [
    "source_list = [\n",
    "    fdem.sources.RawVec_e([], frequency=freq, s_e=source_term)\n",
    "    for freq in frequencies\n",
    "]"
   ]
  },
  {
   "cell_type": "markdown",
   "metadata": {},
   "source": [
    "### Setup and solve the forward problem"
   ]
  },
  {
   "cell_type": "code",
   "execution_count": null,
   "metadata": {},
   "outputs": [],
   "source": [
    "survey = fdem.Survey(source_list)\n",
    "simulation = fdem.Problem3D_j(\n",
    "    mesh, sigmaMap=maps.IdentityMap(mesh), Solver=Pardiso,\n",
    "    survey=survey\n",
    ")"
   ]
  },
  {
   "cell_type": "code",
   "execution_count": null,
   "metadata": {},
   "outputs": [],
   "source": [
    "fields_dict = {}"
   ]
  },
  {
   "cell_type": "code",
   "execution_count": null,
   "metadata": {},
   "outputs": [],
   "source": [
    "%%time\n",
    "for key in model_names:\n",
    "    t = time.time()\n",
    "    print(f\"solving {key} model\")\n",
    "    fields_dict[key] = simulation.fields(model_dict[key])\n",
    "    print(f\" ... done. Elapsed time: {time.time()-t:1.2e}s\\n\")"
   ]
  },
  {
   "cell_type": "markdown",
   "metadata": {},
   "source": [
    "## Visualize the results\n",
    "\n",
    "The following sets up an interactive viewer to visualize the fields and fluxes. The first one zooms in to the casing if you would like to see the behaviour of the fields and fluxes in the immediate vicinity of the casing. The second one zooms out so that you can see the behaviour of the fields and fluxes in the surrounding geologic formation. \n",
    "\n",
    "The title of the plot will tell you which model you are view, which field and what frequency. \n",
    "\n",
    "**Parameters**\n",
    "- `max_r`: max radius of the plot (m)\n",
    "- `min_depth`: minimum depth to plot (-z, in meters)\n",
    "- `max_depth`: maximum depth to plot (-z, in meters)\n",
    "- `clim_min`: minimum colorbar value\n",
    "- `clim_max`: maximum colorbar value\n",
    "- `model_key`: model to view\n",
    "- `view`: field you want to visualize\n",
    "- `prim_sec`: the primary is set to be the intact casing. If you view the \"secondary\" the response of the intact casing is subtracted off from the model you are visualizing\n",
    "- `real_or_imag`: real or imaginary component\n",
    "- `src_ind`: index of the source (move to change the frequency you are viewing)\n",
    "- `show_mesh`: plots the mesh on the right-hand half of the plot\n",
    "- `use_aspect`: sets the size of the axes to have an aspect ratio of 1\n",
    "- `casing_outline`: draws the outline of the casing"
   ]
  },
  {
   "cell_type": "code",
   "execution_count": null,
   "metadata": {},
   "outputs": [],
   "source": [
    "viewer = casing_sim.FieldsViewer(\n",
    "    mesh=mesh, model_parameters_dict={key: model for key in model_names}, \n",
    "    survey_dict={key: simulation.survey for key in model_names}, \n",
    "    fields_dict=fields_dict, model_keys=model_names, \n",
    "    primary_key=\"intact\"\n",
    ")"
   ]
  },
  {
   "cell_type": "code",
   "execution_count": null,
   "metadata": {},
   "outputs": [],
   "source": [
    "out1 = viewer.widget_cross_section(\n",
    "    defaults={\n",
    "        \"max_depth\":1400,\n",
    "        \"min_depth\":-10,\n",
    "        \"max_r\":0.2,\n",
    "        \"view\":\"j\",\n",
    "        \"casing_outline\": False,\n",
    "        \"clim_min\": 1e-8,\n",
    "        \"clim_max\":1e2\n",
    "    }\n",
    ")\n",
    "out1"
   ]
  },
  {
   "cell_type": "code",
   "execution_count": null,
   "metadata": {},
   "outputs": [],
   "source": [
    "viewer.widget_cross_section(\n",
    "    defaults={\n",
    "        \"max_depth\":1.5*model.casing_l,\n",
    "        \"min_depth\":-10,\n",
    "        \"max_r\":1.5*model.casing_l,\n",
    "        \"view\":\"j\",\n",
    "        \"casing_outline\":False,\n",
    "        \"clim_min\":1e-12,\n",
    "        \"clim_max\":1,\n",
    "        \"use_aspect\":True,\n",
    "    }, \n",
    "    figwidth=12\n",
    ")"
   ]
  },
  {
   "cell_type": "markdown",
   "metadata": {},
   "source": [
    "### Plot electric field measurements\n",
    "\n",
    "In the following two sections, we plot measurements of the electric field along a line. The first set of plots computes the horizontal electric field along the surface, the second set of plots computes the vertical electric field in a borehole. "
   ]
  },
  {
   "cell_type": "markdown",
   "metadata": {},
   "source": [
    "#### data at the surface\n",
    "In the following, we compute the electric field at a constant depth (e.g. if we were to take measurements at the surface) "
   ]
  },
  {
   "cell_type": "code",
   "execution_count": null,
   "metadata": {},
   "outputs": [],
   "source": [
    "def get_e(key, source_ind, component):\n",
    "    \"\"\"\n",
    "    A utility function for fetching one spatial component of the \n",
    "    electric field for a single source. \n",
    "    \n",
    "    Parameters\n",
    "    ----------\n",
    "    key: string\n",
    "        The name of the model to fetch. e.g. \"intact\", \"gaps\"\n",
    "    \n",
    "    source_ind: int\n",
    "        Index of the source (frequency) that you want\n",
    "    \n",
    "    component: string\n",
    "        spatial component to fetch (\"x\", \"z\")\n",
    "    \n",
    "    Returns\n",
    "    -------\n",
    "    (grid, e): the spatial grid and the electric field on that grid\n",
    "    \"\"\"\n",
    "    \n",
    "    src = survey.source_list[source_ind]\n",
    "    e = fields_dict[key][src, 'e']\n",
    "    \n",
    "    if component.lower() == \"x\":\n",
    "        e = e[:mesh.nFx]\n",
    "        grid = mesh.gridFx\n",
    "        \n",
    "    elif component.lower() == \"z\":\n",
    "        e = e[mesh.nFx:]\n",
    "        grid = mesh.gridFz\n",
    "        \n",
    "    return grid, e"
   ]
  },
  {
   "cell_type": "code",
   "execution_count": null,
   "metadata": {},
   "outputs": [],
   "source": [
    "def get_e_data_horizontal(key, source_ind=0, component=\"x\", x=[5, 1000], z=-0.1):\n",
    "    \"\"\"\n",
    "    A utility function for fetching the electric field along a constant depth. \n",
    "    \"\"\"\n",
    "    grid, e = get_e(key, source_ind, component)\n",
    "    x = np.array(x)\n",
    "    z = np.array(z)\n",
    "    x_inds = (grid[:, 0] >= x.min()) & (grid[:, 0] <= x.max())\n",
    "    z_inds = np.abs(grid[:, 2] - z) == np.min(np.abs(grid[:, 2] - z))\n",
    "    inds = x_inds & z_inds\n",
    "    \n",
    "    return grid[inds, 0], utils.mkvc(e[inds])\n",
    "    "
   ]
  },
  {
   "cell_type": "code",
   "execution_count": null,
   "metadata": {},
   "outputs": [],
   "source": [
    "x_horizontal = [5, 1000]\n",
    "z_horizontal = 0.\n",
    "component = \"x\"\n",
    "\n",
    "fig, ax = plt.subplots(2, 1, figsize=(10, 8))\n",
    "\n",
    "for i, freq in enumerate(frequencies):\n",
    "    for key, ls in zip(model_names, [\"-\", \"--\"]):  \n",
    "        x_axis, e = get_e_data_horizontal(key, source_ind=i, component=component)\n",
    "        label=f\"{key}, {freq} Hz\"\n",
    "        ax[0].semilogy(x_axis, np.abs(e.real), color=f\"C{i}\", ls=ls, label=label)\n",
    "        ax[1].semilogy(x_axis, np.abs(e.imag), color=f\"C{i}\", ls=ls, label=label)\n",
    "\n",
    "for a in ax:\n",
    "    a.set_xlabel(\"x (m)\")\n",
    "    a.grid(which=\"both\", color=\"k\", alpha=0.4, lw=0.4)\n",
    "    a.set_ylabel(f\"$E_{component}$ (V/m)\")\n",
    "\n",
    "ax[0].set_title(f\"$E_{component}$ real\")\n",
    "ax[1].set_title(f\"$E_{component}$ imag\")\n",
    "ax[0].legend(bbox_to_anchor=[1, 1])\n",
    "\n",
    "# ax[0].set_ylim([1e-9, 1e-5])\n",
    "# ax[1].set_ylim([1e-9, 1e-5])\n",
    "\n",
    "plt.tight_layout()\n"
   ]
  },
  {
   "cell_type": "code",
   "execution_count": null,
   "metadata": {},
   "outputs": [],
   "source": [
    "x_horizontal = [5, 1000]\n",
    "z_horizontal = 0.\n",
    "component = \"x\"\n",
    "\n",
    "fig, ax = plt.subplots(2, 1, figsize=(8, 8))\n",
    "\n",
    "for i, freq in enumerate(frequencies):\n",
    "    x_axis, eintact = get_e_data_horizontal(\"intact\", source_ind=i, component=component)\n",
    "    x_axis, egap = get_e_data_horizontal(\"gaps\", source_ind=i, component=component)\n",
    "    e = eintact-egap\n",
    "    label=f\"gap - intact, {freq} Hz\"\n",
    "    ax[0].semilogy(x_axis, np.abs(e.real), color=f\"C{i}\", label=label)\n",
    "    ax[1].semilogy(x_axis, np.abs(e.imag), color=f\"C{i}\", label=label)\n",
    "\n",
    "for a in ax:\n",
    "    a.set_xlabel(\"x (m)\")\n",
    "    a.grid(which=\"both\", color=\"k\", alpha=0.4, lw=0.4)\n",
    "    a.set_ylabel(f\"$E_{component}$ (V/m)\")\n",
    "\n",
    "ax[0].set_title(\"Difference real\")\n",
    "ax[1].set_title(\"Difference imag\")\n",
    "ax[0].legend()\n",
    "\n",
    "# ax[0].set_ylim([1e-10, 1e-6])\n",
    "# ax[1].set_ylim([1e-10, 1e-7])\n",
    "\n",
    "plt.tight_layout()\n"
   ]
  },
  {
   "cell_type": "markdown",
   "metadata": {},
   "source": [
    "#### data in a borehole\n",
    "In the following, we compute the electric field at a constant depth (e.g. if we were to take measurements at the surface) "
   ]
  },
  {
   "cell_type": "code",
   "execution_count": null,
   "metadata": {},
   "outputs": [],
   "source": [
    "def get_e_data_borehole(key, source_ind=0, component=\"z\", x=100, z=[-1000, 0]):\n",
    "    \"\"\"\n",
    "    A utility function for fetching the electric field at a constant radius. \n",
    "    \"\"\"\n",
    "    \n",
    "    grid, e = get_e(key, source_ind, component)\n",
    "    \n",
    "    x = np.array(x)\n",
    "    z = np.array(z)\n",
    "    \n",
    "    x_inds = np.abs(grid[:, 0] - x) == np.min(np.abs(grid[:, 0] - x))\n",
    "    z_inds = (grid[:, 2] >= z.min()) & (grid[:, 2] <= z.max())\n",
    "    \n",
    "    inds = x_inds & z_inds\n",
    "    \n",
    "    return grid[inds, 2], utils.mkvc(e[inds])\n",
    "    "
   ]
  },
  {
   "cell_type": "code",
   "execution_count": null,
   "metadata": {},
   "outputs": [],
   "source": [
    "x_borehole = 100\n",
    "z_borehole = [-1000, 0]\n",
    "component = \"z\"\n",
    "\n",
    "fig, ax = plt.subplots(2, 1, figsize=(10, 8))\n",
    "\n",
    "for i, freq in enumerate(frequencies):\n",
    "    for key, ls in zip(model_names, [\"-\", \"--\"]):  \n",
    "        x_axis, e = get_e_data_borehole(key, source_ind=i, component=component)\n",
    "        label=f\"{key}, {freq} Hz\"\n",
    "        ax[0].semilogy(x_axis, np.abs(e.real), color=f\"C{i}\", ls=ls, label=label)\n",
    "        ax[1].semilogy(x_axis, np.abs(e.imag), color=f\"C{i}\", ls=ls, label=label)\n",
    "\n",
    "for a in ax:\n",
    "    a.set_xlabel(\"z (m)\")\n",
    "    a.grid(which=\"both\", color=\"k\", alpha=0.4, lw=0.4)\n",
    "    a.set_ylabel(f\"$E_{component}$ (V/m)\")\n",
    "    a.set_xlim(a.get_xlim()[::-1])\n",
    "\n",
    "ax[0].set_title(f\"$E_{component}$ real\")\n",
    "ax[1].set_title(f\"$E_{component}$ imag\")\n",
    "ax[0].legend(bbox_to_anchor=[1, 1])\n",
    "\n",
    "# ax[0].set_ylim([1e-8, 1e-5])\n",
    "# ax[1].set_ylim([1e-8, 1e-5])\n",
    "\n",
    "plt.tight_layout()\n"
   ]
  },
  {
   "cell_type": "code",
   "execution_count": null,
   "metadata": {},
   "outputs": [],
   "source": [
    "x_borehole = 100\n",
    "z_borehole = [-1000, 0]\n",
    "component = \"z\"\n",
    "\n",
    "fig, ax = plt.subplots(2, 1, figsize=(8, 8))\n",
    "\n",
    "for i, freq in enumerate(frequencies):\n",
    "    x_axis, eintact = get_e_data_borehole(\"intact\", source_ind=i, component=component)\n",
    "    x_axis, egap = get_e_data_borehole(\"gaps\", source_ind=i, component=component)\n",
    "    e = eintact-egap\n",
    "    label=f\"gap - intact, {freq} Hz\"\n",
    "    ax[0].semilogy(x_axis, np.abs(e.real), color=f\"C{i}\", label=label)\n",
    "    ax[1].semilogy(x_axis, np.abs(e.imag), color=f\"C{i}\", label=label)\n",
    "\n",
    "for a in ax:\n",
    "    a.set_xlabel(\"x (m)\")\n",
    "    a.grid(which=\"both\", color=\"k\", alpha=0.4, lw=0.4)\n",
    "    a.set_ylabel(f\"$E_{component}$ (V/m)\")\n",
    "    a.set_xlim(a.get_xlim()[::-1])\n",
    "\n",
    "ax[0].set_title(\"Difference real\")\n",
    "ax[1].set_title(\"Difference imag\")\n",
    "ax[0].legend()\n",
    "\n",
    "# ax[0].set_ylim([1e-8, 1e-5])\n",
    "# ax[1].set_ylim([1e-10, 1e-5])\n",
    "\n",
    "plt.tight_layout()\n"
   ]
  },
  {
   "cell_type": "code",
   "execution_count": null,
   "metadata": {},
   "outputs": [],
   "source": []
  },
  {
   "cell_type": "code",
   "execution_count": null,
   "metadata": {},
   "outputs": [],
   "source": []
  }
 ],
 "metadata": {
  "kernelspec": {
   "display_name": "resistive_casing",
   "language": "python",
   "name": "resistive_casing"
  },
  "language_info": {
   "codemirror_mode": {
    "name": "ipython",
    "version": 3
   },
   "file_extension": ".py",
   "mimetype": "text/x-python",
   "name": "python",
   "nbconvert_exporter": "python",
   "pygments_lexer": "ipython3",
   "version": "3.7.3"
  }
 },
 "nbformat": 4,
 "nbformat_minor": 4
}
